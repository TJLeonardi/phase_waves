{
 "cells": [
  {
   "cell_type": "code",
   "execution_count": 1,
   "id": "3a6c1dfd",
   "metadata": {},
   "outputs": [],
   "source": [
    "import numpy as np\n",
    "import matplotlib.pyplot as plt\n",
    "\n",
    "import pickle\n",
    "import os\n",
    "from datetime import datetime\n",
    "from scipy.fft import ifft2, fft2\n",
    "import agent\n",
    "import analyse\n",
    "import visualise\n",
    "\n",
    "\n"
   ]
  },
  {
   "cell_type": "code",
   "execution_count": 2,
   "id": "fac0f200",
   "metadata": {},
   "outputs": [],
   "source": [
    "def read(title):\n",
    "    '''Opens specified data file containing simulation details and phase values'''\n",
    "    return pickle.load(open('data/' + title +'.p', 'rb'))\n",
    "\n",
    "def set_model(title):\n",
    "    file = read(title)\n",
    "    uploaded = agent.Kuramoto(file['stats']['tmax'], file['stats']['N'],file['stats']['M'],file['stats']['sigma'],\n",
    "                        file['stats']['eta'],file['stats']['bc'],file['stats']['grad'])\n",
    "    uploaded.omegas = file['omegas']\n",
    "    uploaded.theta = file['theta']\n",
    "    uploaded.title = title\n",
    "    return uploaded\n",
    "\n",
    "def todo(tmax, sigma, eta, bc, grad, shape):\n",
    "    t_max = tmax\n",
    "    length = 128\n",
    "    # length= 64\n",
    "    if shape == '2D':\n",
    "        height = 128\n",
    "        model = agent.Kuramoto(t_max, height, length, sigma, eta, bc, grad)\n",
    "        model.solve(dim=2)\n",
    "        print('2D solved')\n",
    "        model.save()\n",
    "        visualise.plot2D_frame(model.tmax - 2, model)\n",
    "        print('2D saved')\n",
    "    elif shape == 'q2D':\n",
    "        height = 20\n",
    "        model = agent.Kuramoto(t_max, height, length, sigma, eta, bc, grad)\n",
    "        model.solve(dim=2)\n",
    "        print('2D solved')\n",
    "        model.save()\n",
    "        visualise.plot2D_frame(model.tmax - 2, model)\n",
    "        print('2D saved')\n",
    "    elif shape == '1D':\n",
    "        model = agent.Kuramoto(t_max, length, 1, sigma, eta, bc, grad)\n",
    "        model.solve()\n",
    "        print('1D solved')\n",
    "        model.save()\n",
    "        visualise.plot1D_frame(model,t = -2)\n",
    "        print('1D saved')\n",
    "    else:\n",
    "        print('Error shape not present')\n",
    "        return\n",
    "    return model.title,model\n",
    "\n",
    "\n",
    "def custom():\n",
    "    custom = agent.Kuramoto(1000, 20, 128, 0.1, 0.5, 'custom', [0, 0])\n",
    "    custom.omegas[10][64] = 2\n",
    "    custom.solve(2)\n",
    "    custom.save()\n",
    "    visualise.animate(custom, False)\n",
    "\n",
    "\n",
    "def remove_harmonics(filename):\n",
    "    analyse.remove_harmonic(read(filename), set_model(filename))"
   ]
  },
  {
   "cell_type": "code",
   "execution_count": 4,
   "id": "faf06090",
   "metadata": {},
   "outputs": [
    {
     "name": "stdout",
     "output_type": "stream",
     "text": [
      "2D solved\n",
      "{'N': 20, 'M': 128, 'tmax': 1000, 'sigma': 0, 'eta': 0.2, 'bc': 'fix', 'grad': [0, 0], 'dim': 'q2D'}\n"
     ]
    },
    {
     "data": {
      "image/png": "[encoded data removed]",
      "text/plain": [
       "<Figure size 432x288 with 2 Axes>"
      ]
     },
     "metadata": {
      "needs_background": "light"
     },
     "output_type": "display_data"
    },
    {
     "name": "stdout",
     "output_type": "stream",
     "text": [
      "2D saved\n"
     ]
    },
    {
     "ename": "AttributeError",
     "evalue": "'tuple' object has no attribute 'theta'",
     "output_type": "error",
     "traceback": [
      "\u001b[1;31m---------------------------------------------------------------------------\u001b[0m",
      "\u001b[1;31mAttributeError\u001b[0m                            Traceback (most recent call last)",
      "\u001b[1;32m<ipython-input-4-006477c088ce>\u001b[0m in \u001b[0;36m<module>\u001b[1;34m\u001b[0m\n\u001b[0;32m      1\u001b[0m \u001b[0mmodel\u001b[0m \u001b[1;33m=\u001b[0m\u001b[0mtodo\u001b[0m\u001b[1;33m(\u001b[0m\u001b[1;36m1000\u001b[0m\u001b[1;33m,\u001b[0m\u001b[1;36m0\u001b[0m\u001b[1;33m,\u001b[0m\u001b[1;36m0.2\u001b[0m\u001b[1;33m,\u001b[0m\u001b[1;34m'fix'\u001b[0m\u001b[1;33m,\u001b[0m\u001b[1;33m[\u001b[0m\u001b[1;36m0\u001b[0m\u001b[1;33m,\u001b[0m\u001b[1;36m0\u001b[0m\u001b[1;33m]\u001b[0m\u001b[1;33m,\u001b[0m\u001b[1;34m'q2D'\u001b[0m\u001b[1;33m)\u001b[0m\u001b[1;33m\u001b[0m\u001b[1;33m\u001b[0m\u001b[0m\n\u001b[1;32m----> 2\u001b[1;33m \u001b[0mvisualise\u001b[0m\u001b[1;33m.\u001b[0m\u001b[0manimate\u001b[0m\u001b[1;33m(\u001b[0m\u001b[0mmodel\u001b[0m\u001b[1;33m,\u001b[0m\u001b[1;32mFalse\u001b[0m\u001b[1;33m,\u001b[0m\u001b[1;34m'phase'\u001b[0m\u001b[1;33m)\u001b[0m\u001b[1;33m\u001b[0m\u001b[1;33m\u001b[0m\u001b[0m\n\u001b[0m",
      "\u001b[1;32m~\\PycharmProjects\\phasewaves\\visualise.py\u001b[0m in \u001b[0;36manimate\u001b[1;34m(model, rem, variable)\u001b[0m\n\u001b[0;32m    134\u001b[0m     \u001b[1;31m#print(model.theta.T[].reshape((20,128))% (2*np.pi))\u001b[0m\u001b[1;33m\u001b[0m\u001b[1;33m\u001b[0m\u001b[1;33m\u001b[0m\u001b[0m\n\u001b[0;32m    135\u001b[0m     \u001b[1;32mif\u001b[0m \u001b[0mvariable\u001b[0m \u001b[1;33m==\u001b[0m \u001b[1;34m'phase'\u001b[0m\u001b[1;33m:\u001b[0m\u001b[1;33m\u001b[0m\u001b[1;33m\u001b[0m\u001b[0m\n\u001b[1;32m--> 136\u001b[1;33m         \u001b[0ma0\u001b[0m \u001b[1;33m=\u001b[0m \u001b[0mmodel\u001b[0m\u001b[1;33m.\u001b[0m\u001b[0mtheta\u001b[0m\u001b[1;33m.\u001b[0m\u001b[0mT\u001b[0m\u001b[1;33m[\u001b[0m\u001b[1;36m0\u001b[0m\u001b[1;33m]\u001b[0m\u001b[1;33m.\u001b[0m\u001b[0mreshape\u001b[0m\u001b[1;33m(\u001b[0m\u001b[1;33m(\u001b[0m\u001b[0mmodel\u001b[0m\u001b[1;33m.\u001b[0m\u001b[0mN\u001b[0m\u001b[1;33m,\u001b[0m \u001b[0mmodel\u001b[0m\u001b[1;33m.\u001b[0m\u001b[0mM\u001b[0m\u001b[1;33m)\u001b[0m\u001b[1;33m)\u001b[0m \u001b[1;33m%\u001b[0m \u001b[1;33m(\u001b[0m\u001b[1;36m2\u001b[0m \u001b[1;33m*\u001b[0m \u001b[0mnp\u001b[0m\u001b[1;33m.\u001b[0m\u001b[0mpi\u001b[0m\u001b[1;33m)\u001b[0m\u001b[1;33m\u001b[0m\u001b[1;33m\u001b[0m\u001b[0m\n\u001b[0m\u001b[0;32m    137\u001b[0m         \u001b[1;31m# a = model.theta.T[t].reshape((model.N, model.M)) % (2 * np.pi)\u001b[0m\u001b[1;33m\u001b[0m\u001b[1;33m\u001b[0m\u001b[1;33m\u001b[0m\u001b[0m\n\u001b[0;32m    138\u001b[0m     \u001b[1;32melif\u001b[0m \u001b[0mvariable\u001b[0m \u001b[1;33m==\u001b[0m \u001b[1;34m'branch'\u001b[0m\u001b[1;33m:\u001b[0m\u001b[1;33m\u001b[0m\u001b[1;33m\u001b[0m\u001b[0m\n",
      "\u001b[1;31mAttributeError\u001b[0m: 'tuple' object has no attribute 'theta'"
     ]
    },
    {
     "data": {
      "text/plain": [
       "<Figure size 432x288 with 0 Axes>"
      ]
     },
     "metadata": {},
     "output_type": "display_data"
    }
   ],
   "source": [
    "title, model =todo(1000,0,0.2,'fix',[0,0],'q2D')\n"
   ]
  },
  {
   "cell_type": "code",
   "execution_count": 5,
   "id": "7e173efa",
   "metadata": {},
   "outputs": [
    {
     "data": {
      "image/png": "[encoded data removed]",
      "text/plain": [
       "<Figure size 432x288 with 2 Axes>"
      ]
     },
     "metadata": {
      "needs_background": "light"
     },
     "output_type": "display_data"
    }
   ],
   "source": [
    "model = model[1]\n",
    "visualise.animate(model,False,'phase')"
   ]
  },
  {
   "cell_type": "code",
   "execution_count": null,
   "id": "b7d5cd16",
   "metadata": {},
   "outputs": [],
   "source": []
  }
 ],
 "metadata": {
  "kernelspec": {
   "display_name": "Python 3",
   "language": "python",
   "name": "python3"
  },
  "language_info": {
   "codemirror_mode": {
    "name": "ipython",
    "version": 3
   },
   "file_extension": ".py",
   "mimetype": "text/x-python",
   "name": "python",
   "nbconvert_exporter": "python",
   "pygments_lexer": "ipython3",
   "version": "3.8.8"
  }
 },
 "nbformat": 4,
 "nbformat_minor": 5
}
