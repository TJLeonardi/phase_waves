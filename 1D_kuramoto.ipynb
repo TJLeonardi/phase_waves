{
 "cells": [
  {
   "cell_type": "code",
   "execution_count": 221,
   "metadata": {},
   "outputs": [],
   "source": [
    "import numpy as np\n",
    "import matplotlib.pyplot as plt\n",
    "from scipy.optimize import fsolve"
   ]
  },
  {
   "cell_type": "code",
   "execution_count": 266,
   "metadata": {},
   "outputs": [],
   "source": [
    "N = 20\n",
    "sigma = 1\n",
    "eta = 0.1"
   ]
  },
  {
   "cell_type": "code",
   "execution_count": 267,
   "metadata": {},
   "outputs": [],
   "source": [
    "omegas = np.random.normal(0,sigma,N)\n",
    "omega_bar = 10"
   ]
  },
  {
   "cell_type": "code",
   "execution_count": 268,
   "metadata": {},
   "outputs": [],
   "source": [
    " def K_phi(phi):\n",
    "        return np.sin(phi) + eta*(1 - np.cos(phi))"
   ]
  },
  {
   "cell_type": "code",
   "execution_count": 269,
   "metadata": {},
   "outputs": [],
   "source": [
    "class Kuramoto:\n",
    "    def __init__(self, theta0,theta1, t):\n",
    "        self.theta = [0 for n in range(t+1)]\n",
    "        self.v = [0 for n in range(t+1)]\n",
    "        self.theta[0] = theta0\n",
    "        self.theta[1] = theta1\n",
    "        self.t = t\n",
    "        \n",
    "        \n",
    "    def K_phi(self,phi):\n",
    "        return np.sin(phi) + eta*(1 - np.cos(phi))\n",
    "    \n",
    "    \n",
    "    def force(self,psi_2,i=0):\n",
    "        omega = omegas[i]\n",
    "        psi_0 = self.theta[i]\n",
    "        psi_1 = self.theta[i+1]\n",
    "        a1 = K_phi(psi_2 - psi_1)\n",
    "        a2 = K_phi(psi_0 - psi_1)\n",
    "        return  a1 + a2 + omega - omega_bar\n",
    "\n",
    "    def find_phase_profile(self):\n",
    "        for i in range(self.t - 1):\n",
    "            self.theta[i+2] = fsolve(self.force,1,args=i)\n",
    "        return\n",
    "    \n",
    "    def find_dt_theta(self):\n",
    "        for i in range(self.t-1):\n",
    "            for j in range(self.t-1):\n",
    "                psi_0 = self.theta[i]\n",
    "                psi_1 = self.theta[i+1]\n",
    "                psi_2 = self.theta[i+2]\n",
    "                a1 = K_phi(psi_2 - psi_1)\n",
    "                a2 = K_phi(psi_0 - psi_1)\n",
    "                self.v[i] += a1 + a2\n",
    "            self.v[i] += np.mean(omegas)\n",
    "        return\n",
    "    \n",
    "    def find_phase_profile_2(self):\n",
    "        for i in range(self.t):\n",
    "            self.theta[i] = self.theta[i] % (2 * np.pi)\n",
    "        return\n",
    "    \n",
    "    #continuum version\n",
    "    def force_cont(self, x, v):\n",
    "        v1 = - 1 * np.multiply(eta, v**2)\n",
    "        y = np.add(v1, omega_bar)\n",
    "        return y\n",
    "    \n",
    "    \n",
    "    def RK2(self, Dt):\n",
    "        for i in range(self.t):\n",
    "            kx1 = self.v[i]\n",
    "            kv1 = force(self.theta[i],self.v[i])\n",
    "\n",
    "            kx2 = kx1 + np.multiply(Dt/2, kv1)\n",
    "            kv2 = force(self.theta[i]+np.multiply(Dt/2,kx1),kx2)\n",
    "\n",
    "            w = np.random.normal(0,sigma,1)\n",
    "            self.theta[i+1] = self.theta[i] + np.multiply(Dt/2,(np.add(kx1, kx2)))\n",
    "            self.v[i + 1] = self.v[i] + np.multiply(Dt/2, (np.add(kv1, kv2))) + np.multiply(w,np.sqrt(Dt))\n",
    "        return"
   ]
  },
  {
   "cell_type": "code",
   "execution_count": 270,
   "metadata": {},
   "outputs": [
    {
     "data": {
      "text/plain": [
       "0.8874407542210825"
      ]
     },
     "execution_count": 270,
     "metadata": {},
     "output_type": "execute_result"
    }
   ],
   "source": [
    "eg1 = Particle(0.1,0)\n",
    "eg1.RK2(0.1)\n",
    "eg1.K_phi(1)"
   ]
  },
  {
   "cell_type": "code",
   "execution_count": 271,
   "metadata": {},
   "outputs": [
    {
     "data": {
      "text/plain": [
       "[<matplotlib.lines.Line2D at 0x2207ca20190>]"
      ]
     },
     "execution_count": 271,
     "metadata": {},
     "output_type": "execute_result"
    },
    {
     "data": {
      "image/png": "[encoded data removed]",
      "text/plain": [
       "<Figure size 432x288 with 1 Axes>"
      ]
     },
     "metadata": {
      "needs_background": "light"
     },
     "output_type": "display_data"
    }
   ],
   "source": [
    "eg = Kuramoto(0,0.001,N)\n",
    "eg.find_phase_profile()\n",
    "eg.find_phase_profile_2()\n",
    "plt.plot(eg.theta[:-1])"
   ]
  },
  {
   "cell_type": "code",
   "execution_count": 272,
   "metadata": {},
   "outputs": [
    {
     "data": {
      "text/plain": [
       "[<matplotlib.lines.Line2D at 0x2207ca73670>]"
      ]
     },
     "execution_count": 272,
     "metadata": {},
     "output_type": "execute_result"
    },
    {
     "data": {
      "image/png": "[encoded data removed]",
      "text/plain": [
       "<Figure size 432x288 with 1 Axes>"
      ]
     },
     "metadata": {
      "needs_background": "light"
     },
     "output_type": "display_data"
    }
   ],
   "source": [
    "eg.find_dt_theta()\n",
    "plt.plot(eg.v[1:-2])"
   ]
  },
  {
   "cell_type": "code",
   "execution_count": null,
   "metadata": {},
   "outputs": [],
   "source": []
  },
  {
   "cell_type": "code",
   "execution_count": null,
   "metadata": {},
   "outputs": [],
   "source": []
  }
 ],
 "metadata": {
  "kernelspec": {
   "display_name": "Python 3",
   "language": "python",
   "name": "python3"
  },
  "language_info": {
   "codemirror_mode": {
    "name": "ipython",
    "version": 3
   },
   "file_extension": ".py",
   "mimetype": "text/x-python",
   "name": "python",
   "nbconvert_exporter": "python",
   "pygments_lexer": "ipython3",
   "version": "3.8.8"
  }
 },
 "nbformat": 4,
 "nbformat_minor": 1
}
