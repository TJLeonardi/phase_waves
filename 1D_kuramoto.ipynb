{
 "cells": [
  {
   "cell_type": "code",
   "execution_count": 20,
   "metadata": {},
   "outputs": [],
   "source": [
    "import numpy as np\n",
    "import matplotlib.pyplot as plt\n",
    "from scipy.optimize import fsolve\n",
    "import math\n",
    "from scipy.integrate import solve_ivp"
   ]
  },
  {
   "cell_type": "code",
   "execution_count": 91,
   "metadata": {},
   "outputs": [],
   "source": [
    "N = 120\n",
    "sigma = 0.43\n",
    "eta = 0.04\n",
    "T = 1000"
   ]
  },
  {
   "cell_type": "code",
   "execution_count": 121,
   "metadata": {},
   "outputs": [],
   "source": [
    "omegas = np.random.normal(0,sigma,N)\n"
   ]
  },
  {
   "cell_type": "code",
   "execution_count": 93,
   "metadata": {},
   "outputs": [],
   "source": [
    " def K_phi(phi):\n",
    "        return np.sin(phi) + eta*(1 - np.cos(phi))"
   ]
  },
  {
   "cell_type": "code",
   "execution_count": 135,
   "metadata": {},
   "outputs": [],
   "source": [
    "class Kuramoto:\n",
    "    def __init__(self, theta0, length, duration):\n",
    "        self.theta = np.zeros(length)\n",
    "        self.v = np.zeros(length)\n",
    "        self.theta[0] = theta0\n",
    "        self.duration = duration\n",
    "        \n",
    "        \n",
    "    def K_phi(self,phi):\n",
    "        return np.sin(phi) + eta*(1 - np.cos(phi))\n",
    "    \n",
    "    def RHS(self,t,theta):\n",
    "        #omega = omegas[i]\n",
    "        #print(f'theta is {theta}')\n",
    "        omega = np.random.normal(0,sigma,1)\n",
    "\n",
    "        psi_0 = np.roll(theta,-1)\n",
    "        psi_1 = theta\n",
    "        psi_2 = np.roll(theta,1)\n",
    "        a1 = K_phi(psi_2 - psi_1)\n",
    "        a2 = K_phi(psi_0 - psi_1)\n",
    "        y = (a1 + a2 + omega)\n",
    "        y[0] = 0\n",
    "        y[-1] = 0\n",
    "        return  y\n",
    "    \n",
    "    \n",
    "    def solve(self):\n",
    "        sol = solve_ivp(self.RHS,[0,T],self.theta,method='LSODA')\n",
    "        \n",
    "        self.theta = sol.y\n",
    "        return\n",
    "        \n",
    "    \n",
    "    \n",
    "    def force(self,psi_2,i=0):\n",
    "        #omega = omegas[i]\n",
    "        omega = np.random.normal(0,sigma,1)\n",
    "        psi_0 = self.theta[i]\n",
    "        psi_1 = self.theta[i+1]\n",
    "        a1 = K_phi(psi_2 - psi_1)\n",
    "        a2 = K_phi(psi_0 - psi_1)\n",
    "        return  a1 + a2 + omega - omega_bar\n",
    "    \n",
    "    \n",
    "    \n",
    "    def analytical(self,i=0):\n",
    "        A = np.cos(self.theta[i+1]) - eta * np.sin(self.theta[i+1])\n",
    "        B = - np.sin(self.theta[i+1]) - eta*np.cos(self.theta[i+1])\n",
    "        C = omega_bar - K_phi(self.theta[i] - self.theta[i+1]) - omegas[i] - eta\n",
    "        answer = math.asin(C/(np.sqrt(A**2 +B**2))) - math.atan(B/A)\n",
    "        return answer\n",
    "\n",
    "    def find_phase_profile(self):\n",
    "        for i in range(self.t - 1):\n",
    "            self.theta[i+2] = fsolve(self.force,self.theta[i+1]+0.5,args=i)[0]\n",
    "            #self.theta[i+2] = self.analytical(i)\n",
    "            print('force: ' + str(self.force(self.theta[i+2],i)))\n",
    "        return\n",
    "    \n",
    "    def find_dt_theta(self):\n",
    "        for i in range(self.t-1):\n",
    "            for j in range(self.t-1):\n",
    "                psi_0 = self.theta[i]\n",
    "                psi_1 = self.theta[i+1]\n",
    "                psi_2 = self.theta[i+2]\n",
    "                a1 = K_phi(psi_2 - psi_1)\n",
    "                a2 = K_phi(psi_0 - psi_1)\n",
    "                self.v[i] += a1 + a2\n",
    "            self.v[i] += np.mean(omegas)\n",
    "        return\n",
    "    \n",
    "    def find_phase_profile_2(self):\n",
    "        for i in range(self.t):\n",
    "            self.theta[i] = self.theta[i] % (2 * np.pi)\n",
    "        return\n",
    "    \n",
    "    #continuum version\n",
    "    def force_cont(self, x, v):\n",
    "        v1 = - 1 * np.multiply(eta, v**2)\n",
    "        y = np.add(v1, omega_bar)\n",
    "        return y\n",
    "    \n",
    "    \n",
    "    def RK2(self, Dt):\n",
    "        for i in range(self.t):\n",
    "            kx1 = self.v[i]\n",
    "            kv1 = force(self.theta[i],self.v[i])\n",
    "\n",
    "            kx2 = kx1 + np.multiply(Dt/2, kv1)\n",
    "            kv2 = force(self.theta[i]+np.multiply(Dt/2,kx1),kx2)\n",
    "\n",
    "            w = np.random.normal(0,sigma,1)\n",
    "            self.theta[i+1] = self.theta[i] + np.multiply(Dt/2,(np.add(kx1, kx2)))\n",
    "            self.v[i + 1] = self.v[i] + np.multiply(Dt/2, (np.add(kv1, kv2))) + np.multiply(w,np.sqrt(Dt))\n",
    "        return"
   ]
  },
  {
   "cell_type": "code",
   "execution_count": 136,
   "metadata": {},
   "outputs": [],
   "source": [
    "eg = Kuramoto(0,N,T)\n",
    "eg.RHS(eg.theta,1)\n",
    "eg.solve()"
   ]
  },
  {
   "cell_type": "code",
   "execution_count": 137,
   "metadata": {},
   "outputs": [
    {
     "data": {
      "image/png": "[encoded data removed]",
      "text/plain": [
       "<Figure size 432x288 with 1 Axes>"
      ]
     },
     "metadata": {
      "needs_background": "light"
     },
     "output_type": "display_data"
    }
   ],
   "source": [
    "plt.plot(eg.theta)\n",
    "plt.show()"
   ]
  },
  {
   "cell_type": "code",
   "execution_count": 138,
   "metadata": {},
   "outputs": [],
   "source": [
    "transpose = np.transpose(eg.theta)"
   ]
  },
  {
   "cell_type": "code",
   "execution_count": 139,
   "metadata": {},
   "outputs": [
    {
     "data": {
      "image/png": "[encoded data removed]",
      "text/plain": [
       "<Figure size 432x288 with 1 Axes>"
      ]
     },
     "metadata": {
      "needs_background": "light"
     },
     "output_type": "display_data"
    }
   ],
   "source": [
    "plt.plot(transpose)\n",
    "plt.show()"
   ]
  },
  {
   "cell_type": "code",
   "execution_count": 120,
   "metadata": {},
   "outputs": [
    {
     "ename": "AttributeError",
     "evalue": "'Kuramoto' object has no attribute 't'",
     "output_type": "error",
     "traceback": [
      "\u001b[1;31m---------------------------------------------------------------------------\u001b[0m",
      "\u001b[1;31mAttributeError\u001b[0m                            Traceback (most recent call last)",
      "\u001b[1;32m<ipython-input-120-c5937b7c47c7>\u001b[0m in \u001b[0;36m<module>\u001b[1;34m\u001b[0m\n\u001b[1;32m----> 1\u001b[1;33m \u001b[0meg\u001b[0m\u001b[1;33m.\u001b[0m\u001b[0mfind_dt_theta\u001b[0m\u001b[1;33m(\u001b[0m\u001b[1;33m)\u001b[0m\u001b[1;33m\u001b[0m\u001b[1;33m\u001b[0m\u001b[0m\n\u001b[0m\u001b[0;32m      2\u001b[0m \u001b[0mplt\u001b[0m\u001b[1;33m.\u001b[0m\u001b[0mplot\u001b[0m\u001b[1;33m(\u001b[0m\u001b[0meg\u001b[0m\u001b[1;33m.\u001b[0m\u001b[0mv\u001b[0m\u001b[1;33m[\u001b[0m\u001b[1;36m1\u001b[0m\u001b[1;33m:\u001b[0m\u001b[1;33m-\u001b[0m\u001b[1;36m2\u001b[0m\u001b[1;33m]\u001b[0m\u001b[1;33m)\u001b[0m\u001b[1;33m\u001b[0m\u001b[1;33m\u001b[0m\u001b[0m\n",
      "\u001b[1;32m<ipython-input-94-fd8a4764439b>\u001b[0m in \u001b[0;36mfind_dt_theta\u001b[1;34m(self)\u001b[0m\n\u001b[0;32m     58\u001b[0m \u001b[1;33m\u001b[0m\u001b[0m\n\u001b[0;32m     59\u001b[0m     \u001b[1;32mdef\u001b[0m \u001b[0mfind_dt_theta\u001b[0m\u001b[1;33m(\u001b[0m\u001b[0mself\u001b[0m\u001b[1;33m)\u001b[0m\u001b[1;33m:\u001b[0m\u001b[1;33m\u001b[0m\u001b[1;33m\u001b[0m\u001b[0m\n\u001b[1;32m---> 60\u001b[1;33m         \u001b[1;32mfor\u001b[0m \u001b[0mi\u001b[0m \u001b[1;32min\u001b[0m \u001b[0mrange\u001b[0m\u001b[1;33m(\u001b[0m\u001b[0mself\u001b[0m\u001b[1;33m.\u001b[0m\u001b[0mt\u001b[0m\u001b[1;33m-\u001b[0m\u001b[1;36m1\u001b[0m\u001b[1;33m)\u001b[0m\u001b[1;33m:\u001b[0m\u001b[1;33m\u001b[0m\u001b[1;33m\u001b[0m\u001b[0m\n\u001b[0m\u001b[0;32m     61\u001b[0m             \u001b[1;32mfor\u001b[0m \u001b[0mj\u001b[0m \u001b[1;32min\u001b[0m \u001b[0mrange\u001b[0m\u001b[1;33m(\u001b[0m\u001b[0mself\u001b[0m\u001b[1;33m.\u001b[0m\u001b[0mt\u001b[0m\u001b[1;33m-\u001b[0m\u001b[1;36m1\u001b[0m\u001b[1;33m)\u001b[0m\u001b[1;33m:\u001b[0m\u001b[1;33m\u001b[0m\u001b[1;33m\u001b[0m\u001b[0m\n\u001b[0;32m     62\u001b[0m                 \u001b[0mpsi_0\u001b[0m \u001b[1;33m=\u001b[0m \u001b[0mself\u001b[0m\u001b[1;33m.\u001b[0m\u001b[0mtheta\u001b[0m\u001b[1;33m[\u001b[0m\u001b[0mi\u001b[0m\u001b[1;33m]\u001b[0m\u001b[1;33m\u001b[0m\u001b[1;33m\u001b[0m\u001b[0m\n",
      "\u001b[1;31mAttributeError\u001b[0m: 'Kuramoto' object has no attribute 't'"
     ]
    }
   ],
   "source": [
    "eg.find_dt_theta()\n",
    "plt.plot(eg.v[1:-2])"
   ]
  },
  {
   "cell_type": "code",
   "execution_count": 131,
   "metadata": {},
   "outputs": [],
   "source": [
    "a = (eg.theta[0] + np.pi) % 2*np.pi - np.pi"
   ]
  },
  {
   "cell_type": "code",
   "execution_count": 132,
   "metadata": {},
   "outputs": [
    {
     "data": {
      "text/plain": [
       "[<matplotlib.lines.Line2D at 0x1e9b28d6cd0>]"
      ]
     },
     "execution_count": 132,
     "metadata": {},
     "output_type": "execute_result"
    },
    {
     "data": {
      "image/png": "[encoded data removed]",
      "text/plain": [
       "<Figure size 432x288 with 1 Axes>"
      ]
     },
     "metadata": {
      "needs_background": "light"
     },
     "output_type": "display_data"
    }
   ],
   "source": [
    "plt.plot(a)"
   ]
  },
  {
   "cell_type": "code",
   "execution_count": null,
   "metadata": {},
   "outputs": [],
   "source": []
  },
  {
   "cell_type": "code",
   "execution_count": null,
   "metadata": {},
   "outputs": [],
   "source": []
  },
  {
   "cell_type": "code",
   "execution_count": null,
   "metadata": {},
   "outputs": [],
   "source": []
  }
 ],
 "metadata": {
  "kernelspec": {
   "display_name": "Python 3",
   "language": "python",
   "name": "python3"
  },
  "language_info": {
   "codemirror_mode": {
    "name": "ipython",
    "version": 3
   },
   "file_extension": ".py",
   "mimetype": "text/x-python",
   "name": "python",
   "nbconvert_exporter": "python",
   "pygments_lexer": "ipython3",
   "version": "3.8.8"
  }
 },
 "nbformat": 4,
 "nbformat_minor": 1
}
